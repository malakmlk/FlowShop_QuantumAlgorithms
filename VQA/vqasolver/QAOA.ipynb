{
 "cells": [
  {
   "cell_type": "code",
   "execution_count": 2,
   "id": "0fdc0528",
   "metadata": {},
   "outputs": [],
   "source": [
    "import numpy as np\n",
    "import sys\n",
    "from qiskit.providers.aer import QasmSimulator\n",
    "from qiskit.algorithms import QAOA,VQE\n",
    "from qiskit_optimization.algorithms import MinimumEigenOptimizer    \n",
    "from qiskit.quantum_info.operators import Operator\n",
    "from qiskit.algorithms.optimizers import SPSA\n",
    "from qiskit.circuit.library import TwoLocal\n",
    "from qiskit.utils import algorithm_globals, QuantumInstance\n",
    "# useful additional packages\n",
    "from qiskit import Aer,QuantumCircuit\n",
    "from qiskit.circuit import Parameter\n",
    "sys.path.insert(1,\"C:\\\\Users\\\\malak\\\\FlowShop_QuantumAlgorithms\\\\VQA\")\n",
    "from fspmodel.timeIndex import FSPTimeIndexform\n",
    "from fspmodel.FSPasTSP import FSPasTSP"
   ]
  },
  {
   "cell_type": "code",
   "execution_count": 2,
   "id": "63b8421d",
   "metadata": {},
   "outputs": [],
   "source": [
    "spsa = SPSA(maxiter=5000)\n",
    "ansatz = TwoLocal(rotation_blocks='ry', entanglement_blocks='cz')\n",
    "device = QuantumInstance(QasmSimulator(method='matrix_product_state'), shots=600)\n",
    "vqe = VQE(ansatz, optimizer=spsa, quantum_instance=device)\n",
    "qaoa = QAOA(optimizer=spsa, reps=1, quantum_instance=device,include_custom=True)"
   ]
  },
  {
   "cell_type": "code",
   "execution_count": 3,
   "id": "aed8d6fc",
   "metadata": {},
   "outputs": [
    {
     "data": {
      "text/plain": [
       "<qiskit.circuit.instructionset.InstructionSet at 0x18f9a1cb200>"
      ]
     },
     "execution_count": 3,
     "metadata": {},
     "output_type": "execute_result"
    }
   ],
   "source": [
    "from qiskit.circuit import Parameter\n",
    "from qiskit.extensions import UnitaryGate\n",
    "import numpy as np\n",
    "from qiskit import QuantumCircuit\n",
    "from qiskit import *\n",
    "from qiskit.circuit import Parameter\n",
    "from qiskit.quantum_info import Operator\n",
    "import math as m\n",
    "\n",
    "\n",
    "from qiskit import QuantumCircuit\n",
    "from qiskit.circuit import Parameter, Gate\n",
    "\n",
    "\n",
    "class UHGate(Gate):\n",
    "    def __init__(self, theta, label=None):\n",
    "        super().__init__('U', 2, [theta], label=label)\n",
    "        \n",
    "        \n",
    "    def _define(self):\n",
    "        qc = QuantumCircuit(2)\n",
    "        qc.unitary(self.to_matrix(), [0, 1])\n",
    "        \n",
    "        self.definition = qc\n",
    "        \n",
    "    def to_matrix(self):\n",
    "        t = float(self.params[0])\n",
    "        a = np.cos( t)+1j * np.sin( t)\n",
    "        c = np.cos( t)\n",
    "        s = 1j * np.sin( t)\n",
    "\n",
    "        return np.array([[a, 0, 0, 0], \n",
    "                         [0, c, s, 0], \n",
    "                         [0, s, c, 0],\n",
    "                         [0, 0, 0, a]])\n",
    "\n",
    "\n",
    "t = Parameter('θ')\n",
    "qc = QuantumCircuit(4)\n",
    "qc.append(UHGate(t), [0, 2])\n",
    "qc.append(UHGate(t), [1,3])"
   ]
  },
  {
   "cell_type": "code",
   "execution_count": 4,
   "id": "9979c488",
   "metadata": {},
   "outputs": [],
   "source": [
    "def init_point():\n",
    "    qc = QuantumCircuit(4)\n",
    "    qc.x(0)\n",
    "    qc.x(3)\n",
    "    return qc"
   ]
  },
  {
   "cell_type": "code",
   "execution_count": 5,
   "id": "4d02dc1e",
   "metadata": {},
   "outputs": [],
   "source": [
    "qaoa = QAOA(optimizer=spsa,\n",
    "            reps=1,\n",
    "            quantum_instance=device,\n",
    "            initial_state= init_point(),\n",
    "            mixer=qc,\n",
    "            initial_point=[0.0, 1.0],\n",
    "            include_custom=True)"
   ]
  },
  {
   "cell_type": "code",
   "execution_count": 6,
   "id": "a11a9e70",
   "metadata": {},
   "outputs": [
    {
     "data": {
      "text/plain": [
       "'optimizer2 = MinimumEigenOptimizer(vqe)\\nresult2 = optimizer2.solve(fsp.to_qubo())'"
      ]
     },
     "execution_count": 6,
     "metadata": {},
     "output_type": "execute_result"
    }
   ],
   "source": [
    "fsp = FSPasTSP(2,[[6, 3], [7, 7]],2,1)\n",
    "operator,off = fsp.to_ising()\n",
    "result1 = qaoa.compute_minimum_eigenvalue(operator)\n",
    "#result1\n",
    "\"\"\"optimizer2 = MinimumEigenOptimizer(vqe)\n",
    "result2 = optimizer2.solve(fsp.to_qubo())\"\"\""
   ]
  },
  {
   "cell_type": "code",
   "execution_count": 7,
   "id": "4d60c481",
   "metadata": {},
   "outputs": [
    {
     "data": {
      "text/plain": [
       "{'0011': 0.469041575982343,\n",
       " '0110': 0.689202437604511,\n",
       " '1001': 0.32145502536643183,\n",
       " '1100': 0.4490731195102493}"
      ]
     },
     "execution_count": 7,
     "metadata": {},
     "output_type": "execute_result"
    }
   ],
   "source": [
    "result1.eigenstate\n"
   ]
  },
  {
   "cell_type": "code",
   "execution_count": 8,
   "id": "dde38164",
   "metadata": {},
   "outputs": [
    {
     "data": {
      "text/plain": [
       "{'0000': 0.2516611478423583,\n",
       " '0001': 0.2449489742783178,\n",
       " '0010': 0.2345207879911715,\n",
       " '0011': 0.23804761428476165,\n",
       " '0100': 0.2645751311064591,\n",
       " '0101': 0.2516611478423583,\n",
       " '0110': 0.21984843263788198,\n",
       " '0111': 0.2273030282830976,\n",
       " '1000': 0.2516611478423583,\n",
       " '1001': 0.2516611478423583,\n",
       " '1010': 0.24152294576982397,\n",
       " '1011': 0.26770630673681683,\n",
       " '1100': 0.29154759474226505,\n",
       " '1101': 0.248327740429189,\n",
       " '1110': 0.27080128015453203,\n",
       " '1111': 0.2345207879911715}"
      ]
     },
     "execution_count": 8,
     "metadata": {},
     "output_type": "execute_result"
    }
   ],
   "source": [
    "qaoa2 = QAOA(optimizer=spsa,\n",
    "            reps=1,\n",
    "            quantum_instance=device,\n",
    "            initial_point=[0.0, 1.0],\n",
    "            include_custom=True)\n",
    "result2 = qaoa2.compute_minimum_eigenvalue(operator)\n",
    "result2.eigenstate"
   ]
  },
  {
   "cell_type": "code",
   "execution_count": 9,
   "id": "1554fb08",
   "metadata": {},
   "outputs": [],
   "source": [
    "def init_point_supp():\n",
    "    qc = QuantumCircuit(4)\n",
    "    qc.h(0)\n",
    "    qc.x(0)\n",
    "    qc.cx(0,1)\n",
    "    qc.cx(0,2)\n",
    "    qc.x(0)\n",
    "    qc.x(1)\n",
    "    qc.cx(1,3)\n",
    "    qc.x(1)\n",
    "    return qc"
   ]
  },
  {
   "cell_type": "code",
   "execution_count": 10,
   "id": "450e7a88",
   "metadata": {},
   "outputs": [
    {
     "data": {
      "text/plain": [
       "{'0110': 0.714142842854285, '1001': 0.7}"
      ]
     },
     "execution_count": 10,
     "metadata": {},
     "output_type": "execute_result"
    }
   ],
   "source": [
    "qaoa3 = QAOA(optimizer=spsa,\n",
    "            reps=1,\n",
    "            quantum_instance=device,\n",
    "            initial_state= init_point_supp(),\n",
    "            mixer=qc,\n",
    "            include_custom=True)\n",
    "result3 = qaoa3.compute_minimum_eigenvalue(operator)\n",
    "result3.eigenstate"
   ]
  },
  {
   "cell_type": "markdown",
   "id": "5347470a",
   "metadata": {},
   "source": [
    "# Generalisation N jobs"
   ]
  },
  {
   "cell_type": "code",
   "execution_count": 4,
   "id": "d2c6c654",
   "metadata": {},
   "outputs": [],
   "source": [
    "def init_state(n):\n",
    "    qc = QuantumCircuit(n*n)\n",
    "    for i in range(n):\n",
    "        qc.x(i*n+i)\n",
    "    return qc\n"
   ]
  },
  {
   "cell_type": "code",
   "execution_count": 5,
   "id": "20b129ee",
   "metadata": {},
   "outputs": [
    {
     "name": "stdout",
     "output_type": "stream",
     "text": [
      "[(ParameterVectorElement(θ[0]), 0, 3), (ParameterVectorElement(θ[1]), 0, 6), (ParameterVectorElement(θ[2]), 0, 9), (ParameterVectorElement(θ[0]), 1, 4), (ParameterVectorElement(θ[1]), 1, 7), (ParameterVectorElement(θ[2]), 1, 10), (ParameterVectorElement(θ[0]), 2, 5), (ParameterVectorElement(θ[1]), 2, 8), (ParameterVectorElement(θ[2]), 2, 11), (ParameterVectorElement(θ[0]), 3, 6), (ParameterVectorElement(θ[1]), 3, 9), (ParameterVectorElement(θ[2]), 3, 12)]\n",
      "(ParameterVectorElement(θ[0]), 0, 3)\n",
      "(ParameterVectorElement(θ[1]), 0, 6)\n",
      "(ParameterVectorElement(θ[2]), 0, 9)\n",
      "(ParameterVectorElement(θ[0]), 1, 4)\n",
      "(ParameterVectorElement(θ[1]), 1, 7)\n",
      "(ParameterVectorElement(θ[2]), 1, 10)\n",
      "(ParameterVectorElement(θ[0]), 2, 5)\n",
      "(ParameterVectorElement(θ[1]), 2, 8)\n",
      "(ParameterVectorElement(θ[2]), 2, 11)\n",
      "(ParameterVectorElement(θ[0]), 3, 6)\n",
      "(ParameterVectorElement(θ[1]), 3, 9)\n",
      "(ParameterVectorElement(θ[2]), 3, 12)\n"
     ]
    },
    {
     "data": {
      "text/html": [
       "<pre style=\"word-wrap: normal;white-space: pre;background: #fff0;line-height: 1.1;font-family: &quot;Courier New&quot;,Courier,monospace\">      ┌──────────┐                        ┌──────────┐                        »\n",
       " q_0: ┤0         ├────────────────────────┤0         ├────────────────────────»\n",
       "      │          │┌──────────┐            │          │┌──────────┐            »\n",
       " q_1: ┤          ├┤0         ├────────────┤          ├┤0         ├────────────»\n",
       "      │  U(θ[0]) ││          │┌──────────┐│          ││          │┌──────────┐»\n",
       " q_2: ┤          ├┤          ├┤0         ├┤          ├┤          ├┤0         ├»\n",
       "      │          ││  U(θ[0]) ││          ││          ││          ││          │»\n",
       " q_3: ┤1         ├┤          ├┤          ├┤  U(θ[1]) ├┤          ├┤          ├»\n",
       "      └──────────┘│          ││  U(θ[0]) ││          ││          ││          │»\n",
       " q_4: ────────────┤1         ├┤          ├┤          ├┤  U(θ[1]) ├┤          ├»\n",
       "                  └──────────┘│          ││          ││          ││          │»\n",
       " q_5: ────────────────────────┤1         ├┤          ├┤          ├┤  U(θ[1]) ├»\n",
       "                              └──────────┘│          ││          ││          │»\n",
       " q_6: ────────────────────────────────────┤1         ├┤          ├┤          ├»\n",
       "                                          └──────────┘│          ││          │»\n",
       " q_7: ────────────────────────────────────────────────┤1         ├┤          ├»\n",
       "                                                      └──────────┘│          │»\n",
       " q_8: ────────────────────────────────────────────────────────────┤1         ├»\n",
       "                                                                  └──────────┘»\n",
       " q_9: ────────────────────────────────────────────────────────────────────────»\n",
       "                                                                              »\n",
       "q_10: ────────────────────────────────────────────────────────────────────────»\n",
       "                                                                              »\n",
       "q_11: ────────────────────────────────────────────────────────────────────────»\n",
       "                                                                              »\n",
       "q_12: ────────────────────────────────────────────────────────────────────────»\n",
       "                                                                              »\n",
       "q_13: ────────────────────────────────────────────────────────────────────────»\n",
       "                                                                              »\n",
       "q_14: ────────────────────────────────────────────────────────────────────────»\n",
       "                                                                              »\n",
       "q_15: ────────────────────────────────────────────────────────────────────────»\n",
       "                                                                              »\n",
       "«      ┌──────────┐                                                            \n",
       "« q_0: ┤0         ├────────────────────────────────────────────────────────────\n",
       "«      │          │┌──────────┐                                                \n",
       "« q_1: ┤          ├┤0         ├────────────────────────────────────────────────\n",
       "«      │          ││          │┌──────────┐                                    \n",
       "« q_2: ┤          ├┤          ├┤0         ├────────────────────────────────────\n",
       "«      │          ││          ││          │┌──────────┐┌──────────┐┌──────────┐\n",
       "« q_3: ┤          ├┤          ├┤          ├┤0         ├┤0         ├┤0         ├\n",
       "«      │          ││          ││          ││          ││          ││          │\n",
       "« q_4: ┤          ├┤          ├┤          ├┤          ├┤          ├┤          ├\n",
       "«      │  U(θ[2]) ││          ││          ││  U(θ[0]) ││          ││          │\n",
       "« q_5: ┤          ├┤          ├┤          ├┤          ├┤          ├┤          ├\n",
       "«      │          ││  U(θ[2]) ││          ││          ││          ││          │\n",
       "« q_6: ┤          ├┤          ├┤          ├┤1         ├┤  U(θ[1]) ├┤          ├\n",
       "«      │          ││          ││  U(θ[2]) │└──────────┘│          ││          │\n",
       "« q_7: ┤          ├┤          ├┤          ├────────────┤          ├┤          ├\n",
       "«      │          ││          ││          │            │          ││  U(θ[2]) │\n",
       "« q_8: ┤          ├┤          ├┤          ├────────────┤          ├┤          ├\n",
       "«      │          ││          ││          │            │          ││          │\n",
       "« q_9: ┤1         ├┤          ├┤          ├────────────┤1         ├┤          ├\n",
       "«      └──────────┘│          ││          │            └──────────┘│          │\n",
       "«q_10: ────────────┤1         ├┤          ├────────────────────────┤          ├\n",
       "«                  └──────────┘│          │                        │          │\n",
       "«q_11: ────────────────────────┤1         ├────────────────────────┤          ├\n",
       "«                              └──────────┘                        │          │\n",
       "«q_12: ────────────────────────────────────────────────────────────┤1         ├\n",
       "«                                                                  └──────────┘\n",
       "«q_13: ────────────────────────────────────────────────────────────────────────\n",
       "«                                                                              \n",
       "«q_14: ────────────────────────────────────────────────────────────────────────\n",
       "«                                                                              \n",
       "«q_15: ────────────────────────────────────────────────────────────────────────\n",
       "«                                                                              </pre>"
      ],
      "text/plain": [
       "      ┌──────────┐                        ┌──────────┐                        »\n",
       " q_0: ┤0         ├────────────────────────┤0         ├────────────────────────»\n",
       "      │          │┌──────────┐            │          │┌──────────┐            »\n",
       " q_1: ┤          ├┤0         ├────────────┤          ├┤0         ├────────────»\n",
       "      │  U(θ[0]) ││          │┌──────────┐│          ││          │┌──────────┐»\n",
       " q_2: ┤          ├┤          ├┤0         ├┤          ├┤          ├┤0         ├»\n",
       "      │          ││  U(θ[0]) ││          ││          ││          ││          │»\n",
       " q_3: ┤1         ├┤          ├┤          ├┤  U(θ[1]) ├┤          ├┤          ├»\n",
       "      └──────────┘│          ││  U(θ[0]) ││          ││          ││          │»\n",
       " q_4: ────────────┤1         ├┤          ├┤          ├┤  U(θ[1]) ├┤          ├»\n",
       "                  └──────────┘│          ││          ││          ││          │»\n",
       " q_5: ────────────────────────┤1         ├┤          ├┤          ├┤  U(θ[1]) ├»\n",
       "                              └──────────┘│          ││          ││          │»\n",
       " q_6: ────────────────────────────────────┤1         ├┤          ├┤          ├»\n",
       "                                          └──────────┘│          ││          │»\n",
       " q_7: ────────────────────────────────────────────────┤1         ├┤          ├»\n",
       "                                                      └──────────┘│          │»\n",
       " q_8: ────────────────────────────────────────────────────────────┤1         ├»\n",
       "                                                                  └──────────┘»\n",
       " q_9: ────────────────────────────────────────────────────────────────────────»\n",
       "                                                                              »\n",
       "q_10: ────────────────────────────────────────────────────────────────────────»\n",
       "                                                                              »\n",
       "q_11: ────────────────────────────────────────────────────────────────────────»\n",
       "                                                                              »\n",
       "q_12: ────────────────────────────────────────────────────────────────────────»\n",
       "                                                                              »\n",
       "q_13: ────────────────────────────────────────────────────────────────────────»\n",
       "                                                                              »\n",
       "q_14: ────────────────────────────────────────────────────────────────────────»\n",
       "                                                                              »\n",
       "q_15: ────────────────────────────────────────────────────────────────────────»\n",
       "                                                                              »\n",
       "«      ┌──────────┐                                                            \n",
       "« q_0: ┤0         ├────────────────────────────────────────────────────────────\n",
       "«      │          │┌──────────┐                                                \n",
       "« q_1: ┤          ├┤0         ├────────────────────────────────────────────────\n",
       "«      │          ││          │┌──────────┐                                    \n",
       "« q_2: ┤          ├┤          ├┤0         ├────────────────────────────────────\n",
       "«      │          ││          ││          │┌──────────┐┌──────────┐┌──────────┐\n",
       "« q_3: ┤          ├┤          ├┤          ├┤0         ├┤0         ├┤0         ├\n",
       "«      │          ││          ││          ││          ││          ││          │\n",
       "« q_4: ┤          ├┤          ├┤          ├┤          ├┤          ├┤          ├\n",
       "«      │  U(θ[2]) ││          ││          ││  U(θ[0]) ││          ││          │\n",
       "« q_5: ┤          ├┤          ├┤          ├┤          ├┤          ├┤          ├\n",
       "«      │          ││  U(θ[2]) ││          ││          ││          ││          │\n",
       "« q_6: ┤          ├┤          ├┤          ├┤1         ├┤  U(θ[1]) ├┤          ├\n",
       "«      │          ││          ││  U(θ[2]) │└──────────┘│          ││          │\n",
       "« q_7: ┤          ├┤          ├┤          ├────────────┤          ├┤          ├\n",
       "«      │          ││          ││          │            │          ││  U(θ[2]) │\n",
       "« q_8: ┤          ├┤          ├┤          ├────────────┤          ├┤          ├\n",
       "«      │          ││          ││          │            │          ││          │\n",
       "« q_9: ┤1         ├┤          ├┤          ├────────────┤1         ├┤          ├\n",
       "«      └──────────┘│          ││          │            └──────────┘│          │\n",
       "«q_10: ────────────┤1         ├┤          ├────────────────────────┤          ├\n",
       "«                  └──────────┘│          │                        │          │\n",
       "«q_11: ────────────────────────┤1         ├────────────────────────┤          ├\n",
       "«                              └──────────┘                        │          │\n",
       "«q_12: ────────────────────────────────────────────────────────────┤1         ├\n",
       "«                                                                  └──────────┘\n",
       "«q_13: ────────────────────────────────────────────────────────────────────────\n",
       "«                                                                              \n",
       "«q_14: ────────────────────────────────────────────────────────────────────────\n",
       "«                                                                              \n",
       "«q_15: ────────────────────────────────────────────────────────────────────────\n",
       "«                                                                              "
      ]
     },
     "execution_count": 5,
     "metadata": {},
     "output_type": "execute_result"
    }
   ],
   "source": [
    "from qiskit.circuit import ParameterVector\n",
    "n = 4\n",
    "N = 16\n",
    "t = ParameterVector('θ',(N//n-1))\n",
    "qc = QuantumCircuit(N)\n",
    "qubits_pair = []\n",
    "for i in range(N//n):\n",
    "    for j in range(n-1):\n",
    "        qubits_pair.append((t[j],i,(j+1)*3+i))\n",
    "print(qubits_pair)\n",
    "for i,pair in enumerate(qubits_pair):\n",
    "    print(pair)\n",
    "    qc.append(UHGate(pair[0]), [pair[1],pair[2]])\n",
    "qc.draw()        "
   ]
  },
  {
   "cell_type": "code",
   "execution_count": 13,
   "id": "ab2f1403",
   "metadata": {},
   "outputs": [],
   "source": [
    "qaoa_sw = QAOA(optimizer=spsa,\n",
    "            reps=1,\n",
    "            quantum_instance=device,\n",
    "            initial_state= init_state(n),\n",
    "            mixer=qc,\n",
    "            include_custom=True)"
   ]
  },
  {
   "cell_type": "code",
   "execution_count": 14,
   "id": "adb9719e",
   "metadata": {},
   "outputs": [],
   "source": [
    "fsp = FSPasTSP(2,[[6, 3,5,1], [7,2,9,3]],4,1)\n",
    "operator,off = fsp.to_ising()\n",
    "result1 = qaoa_sw.compute_minimum_eigenvalue(operator)"
   ]
  },
  {
   "cell_type": "code",
   "execution_count": 15,
   "id": "496f1f7b",
   "metadata": {},
   "outputs": [
    {
     "data": {
      "text/plain": [
       "{'1000010000100001': 1.0}"
      ]
     },
     "execution_count": 15,
     "metadata": {},
     "output_type": "execute_result"
    }
   ],
   "source": [
    "result1.eigenstate"
   ]
  },
  {
   "cell_type": "code",
   "execution_count": null,
   "id": "a5503287",
   "metadata": {},
   "outputs": [],
   "source": [
    "result1 = qaoa2.compute_minimum_eigenvalue(operator)"
   ]
  }
 ],
 "metadata": {
  "kernelspec": {
   "display_name": "Python 3",
   "language": "python",
   "name": "python3"
  },
  "language_info": {
   "codemirror_mode": {
    "name": "ipython",
    "version": 3
   },
   "file_extension": ".py",
   "mimetype": "text/x-python",
   "name": "python",
   "nbconvert_exporter": "python",
   "pygments_lexer": "ipython3",
   "version": "3.8.8"
  }
 },
 "nbformat": 4,
 "nbformat_minor": 5
}
