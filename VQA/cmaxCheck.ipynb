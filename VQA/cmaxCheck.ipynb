{
 "cells": [
  {
   "cell_type": "code",
   "execution_count": 4,
   "metadata": {},
   "outputs": [
    {
     "name": "stdout",
     "output_type": "stream",
     "text": [
      "13\n",
      "13 [0, 1, 2, 3]\n",
      "13 [0, 1, 3, 2]\n",
      "13 [0, 2, 3, 1]\n",
      "13 [0, 3, 1, 2]\n",
      "13 [0, 3, 2, 1]\n",
      "12 [1, 0, 2, 3]\n",
      "12 [1, 0, 3, 2]\n",
      "11 [1, 2, 3, 0]\n",
      "11 [1, 3, 0, 2]\n",
      "11 [1, 3, 2, 0]\n",
      "11 [2, 3, 1, 0]\n",
      "11 [3, 0, 1, 2]\n",
      "10 [3, 1, 0, 2]\n"
     ]
    },
    {
     "data": {
      "text/plain": [
       "(10, [3, 1, 0, 2])"
      ]
     },
     "execution_count": 4,
     "metadata": {},
     "output_type": "execute_result"
    }
   ],
   "source": [
    "import numpy as np \n",
    "import itertools\n",
    "\n",
    "def calculate_makespan(a, seq):\n",
    "    a = np.transpose(a)\n",
    "    # Order the jobs (rows) in order of the sequence\n",
    "    a = a[seq]\n",
    "\n",
    "    b = np.zeros(a.shape)\n",
    "    jobs = a.shape[0]\n",
    "    macs = a.shape[1]\n",
    "\n",
    "    b[0, 0] = a[0, 0]\n",
    "    # Build first row\n",
    "    for i in range(1, macs):\n",
    "        b[0, i] = a[0, i] + b[0, i - 1]\n",
    "    # Build first column\n",
    "    for i in range(1, jobs):\n",
    "        b[i, 0] = a[i, 0] + b[i - 1, 0]\n",
    "    # Build the rest\n",
    "    for i in range(1, jobs):\n",
    "        for j in range(1, macs):\n",
    "            b[i, j] = a[i, j] + (b[i - 1, j] if b[i - 1, j] > b[i, j - 1] else b[i, j - 1])\n",
    "\n",
    "    return int(b[-1, -1])\n",
    "\n",
    "c = calculate_makespan( np.array( [[4,2,2,1],[2,3,1,3]]),[0,1,3,2])\n",
    "print(c)\n",
    "\n",
    "def brute_force_makespan(a,n,m):\n",
    "    perm = [[*row] for row in list(itertools.permutations([i for i in range(n)]))]\n",
    "    opt_cmax = 1000000\n",
    "    opt_perm = []\n",
    "    for per in perm :\n",
    "        cmax = calculate_makespan( a,per)\n",
    "        #print(cmax,per)\n",
    "        if cmax <= opt_cmax : \n",
    "            opt_cmax = cmax\n",
    "            opt_perm = per\n",
    "            print(cmax,per)\n",
    "    return opt_cmax,opt_perm\n",
    "brute_force_makespan(np.array( [[4, 2, 2, 1], [2, 3, 1, 3]]),4,2)"
   ]
  },
  {
   "cell_type": "code",
   "execution_count": 4,
   "metadata": {},
   "outputs": [
    {
     "data": {
      "text/plain": [
       "394"
      ]
     },
     "execution_count": 4,
     "metadata": {},
     "output_type": "execute_result"
    }
   ],
   "source": [
    "c = calculate_makespan( np.array([[54, 71, 78, 9], [86, 25, 39, 76], [10, 79, 93, 2], [71, 32, 48, 42]]),[0,2,3,1])\n",
    "c"
   ]
  }
 ],
 "metadata": {
  "interpreter": {
   "hash": "b571ad039132a05352781221bb5da7948c098f78caf20848dfc0dddbdbfdf81c"
  },
  "kernelspec": {
   "display_name": "Python 3.9.7 ('qiskit')",
   "language": "python",
   "name": "python3"
  },
  "language_info": {
   "codemirror_mode": {
    "name": "ipython",
    "version": 3
   },
   "file_extension": ".py",
   "mimetype": "text/x-python",
   "name": "python",
   "nbconvert_exporter": "python",
   "pygments_lexer": "ipython3",
   "version": "3.9.12"
  },
  "orig_nbformat": 4
 },
 "nbformat": 4,
 "nbformat_minor": 2
}
