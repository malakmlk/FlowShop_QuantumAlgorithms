{
 "cells": [
  {
   "cell_type": "code",
   "execution_count": 129,
   "metadata": {},
   "outputs": [],
   "source": [
    "from qiskit_optimization import QuadraticProgram\n",
    "from qiskit_optimization.translators import from_docplex_mp\n",
    "from docplex.mp.model import Model\n",
    "from qiskit_optimization.converters import QuadraticProgramToQubo\n",
    "from typing import List\n",
    "# useful additional packages\n",
    "import matplotlib.pyplot as plt\n",
    "import matplotlib.axes as axes\n",
    "import numpy as np\n",
    "import networkx as nx\n",
    "from qiskit import Aer\n",
    "from qiskit.tools.visualization import plot_histogram\n",
    "from qiskit.circuit.library import TwoLocal\n",
    "from qiskit.algorithms import VQE, NumPyMinimumEigensolver\n",
    "from qiskit.algorithms.optimizers import SPSA\n",
    "from qiskit.utils import algorithm_globals, QuantumInstance\n",
    "from qiskit_optimization.algorithms import MinimumEigenOptimizer\n",
    "from qiskit_optimization.problems import QuadraticProgram"
   ]
  },
  {
   "cell_type": "code",
   "execution_count": 151,
   "metadata": {},
   "outputs": [
    {
     "name": "stdout",
     "output_type": "stream",
     "text": [
      "0 1 0\n",
      "1 0 1\n"
     ]
    },
    {
     "data": {
      "image/png": "[encoded data removed]",
      "text/plain": [
       "<Figure size 432x288 with 1 Axes>"
      ]
     },
     "metadata": {},
     "output_type": "display_data"
    }
   ],
   "source": [
    "class FSPasTSP:\n",
    "     \"\"\"Quantum Optimization for the FSP by mapping it to FSP\"\"\"\n",
    "     def __init__(self,numberMachine : int,procTime:List[List[int]],numberJobs : int)-> None :\n",
    "        \"\"\"\n",
    "        Args : \n",
    "        timeSpan : the makespan value\n",
    "        numberMachine : machine number\n",
    "        numverJobs : job's number\n",
    "        \"\"\"\n",
    "        self.numberMachine = numberMachine\n",
    "        self.numberJobs = numberJobs\n",
    "        self.procTime = procTime\n",
    "\n",
    "     def convert_FSP_WH(self) -> dict[tuple[int, int], int]:\n",
    "         \"\"\"\n",
    "             We are using Widemar & Hertz approach\n",
    "             duv=p1,u + \\sum_2^m (m-i)|pi,u - pi-1,v| + pmv\n",
    "         \"\"\"\n",
    "         TspInstance={\n",
    "             (u,v) :\n",
    "             self.procTime[1][u]\n",
    "             +self.procTime[self.numberMachine-1][v]\n",
    "             +sum([(self.numberMachine-i)*abs(self.procTime[i][u]-self.procTime[i-1][v]) for i in range(self.numberMachine)])\n",
    "             for u in range(self.numberJobs) \n",
    "             for v in range(self.numberJobs)\n",
    "             if u!=v \n",
    "             }\n",
    "         return TspInstance\n",
    "\n",
    "     def convert_FSP_Gupta(self):\n",
    "         TspInstance={\n",
    "             (u,v):\n",
    "             sum([max(self.procTime[i][u]-self.procTime[i-1][v],0)+2*abs(min(self.procTime[i][u]-self.procTime[i-1][v],0)) for i in range(self.numberMachine)])\n",
    "             for u in range(self.numberJobs) \n",
    "             for v in range(self.numberJobs)\n",
    "             if u!=v \n",
    "             }\n",
    "         return TspInstance\n",
    "\n",
    "     def quadratic_program(self)->QuadraticProgram:\n",
    "         TspIns=self.convert_FSP_WH()\n",
    "         mdl=Model(name=\"TSP\")\n",
    "         n=self.numberJobs\n",
    "         x = {(i, k): mdl.binary_var(name=f\"x_{i}_{k}\") for i in range(n) for k in range(n)}\n",
    "         cost_fun=mdl.sum(\n",
    "             TspIns[(u,v)]* x[(u, k)] * x[(v, (k + 1) % n)]\n",
    "             for u in range(n)\n",
    "             for v in range(n)\n",
    "             for k in range(n)\n",
    "             if u != v\n",
    "         )\n",
    "         mdl.minimize(cost_fun)\n",
    "         for u in range(n):\n",
    "            mdl.add_constraint(mdl.sum(x[(u, k)] for k in range(n)) == 1)\n",
    "         for k in range(n):\n",
    "            mdl.add_constraint(mdl.sum(x[(u, k)] for u in range(n)) == 1)\n",
    "         op = from_docplex_mp(mdl)\n",
    "         return op\n",
    "\n",
    "     def draw(self):\n",
    "          instance = self.convert_FSP_WH()\n",
    "          graph = nx.DiGraph()\n",
    "          graph.add_nodes_from([i for i in range(self.numberJobs)])\n",
    "          graph.add_weighted_edges_from(\n",
    "              (key[0],key[0],str(value)) \n",
    "              for value,key in enumerate(instance)\n",
    "              )\n",
    "          plt.figure()    \n",
    "          pos = nx.spring_layout(graph)\n",
    "          weight_labels = nx.get_edge_attributes(graph,'weight')\n",
    "          nx.draw(graph,pos,font_color = 'white', node_shape = 's', with_labels = True,)\n",
    "          nx.draw_networkx_edge_labels(graph,pos,edge_labels=weight_labels)\n",
    "          '''\n",
    "          pos = nx.spring_layout(graph, seed=6)\n",
    "          # nodes\n",
    "          nx.draw_networkx_nodes(graph, pos, node_size=500)\n",
    "          # edges\n",
    "          nx.draw_networkx_edges(\n",
    "            graph, pos,edgelist=edges,edge_color='b',  width=6,  style=\"dashed\"\n",
    "           )\n",
    "          # labels\n",
    "          nx.draw_networkx_labels(graph, pos, font_size=20, font_family=\"sans-serif\")\n",
    "          ax = plt.gca()\n",
    "          ax.margins(0.08)\n",
    "          plt.axis(\"off\")\n",
    "          plt.tight_layout()\n",
    "          plt.show()    \n",
    "          '''\n",
    "          \n",
    "          \n",
    "     \n",
    "     def QUBO(self)->QuadraticProgram :\n",
    "         conv = QuadraticProgramToQubo()\n",
    "         return conv.convert(self.quadratic_program())\n",
    "\n",
    "        \n",
    "fsp = FSPasTSP(2,[[3,5],[5,4]],2)\n",
    "qubo = fsp.QUBO()\n",
    "fsp.draw()\n",
    "i=fsp.convert_FSP_WH()\n",
    "for ket in enumerate(i) : print(ket[0],ket[1][1],ket[1][0] )       \n",
    "    \n",
    "\n"
   ]
  },
  {
   "cell_type": "code",
   "execution_count": 133,
   "metadata": {},
   "outputs": [
    {
     "data": {
      "image/png": "[encoded data removed]",
      "text/plain": [
       "<Figure size 432x288 with 1 Axes>"
      ]
     },
     "metadata": {},
     "output_type": "display_data"
    },
    {
     "name": "stdout",
     "output_type": "stream",
     "text": [
      "(0, 1) 0\n",
      "(1, 0) 1\n"
     ]
    }
   ],
   "source": []
  }
 ],
 "metadata": {
  "interpreter": {
   "hash": "b571ad039132a05352781221bb5da7948c098f78caf20848dfc0dddbdbfdf81c"
  },
  "kernelspec": {
   "display_name": "Python 3.9.7 ('qiskit')",
   "language": "python",
   "name": "python3"
  },
  "language_info": {
   "codemirror_mode": {
    "name": "ipython",
    "version": 3
   },
   "file_extension": ".py",
   "mimetype": "text/x-python",
   "name": "python",
   "nbconvert_exporter": "python",
   "pygments_lexer": "ipython3",
   "version": "3.9.7"
  },
  "orig_nbformat": 4
 },
 "nbformat": 4,
 "nbformat_minor": 2
}
