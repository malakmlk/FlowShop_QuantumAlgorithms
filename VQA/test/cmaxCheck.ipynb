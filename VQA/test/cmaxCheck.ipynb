{
 "cells": [
  {
   "cell_type": "code",
   "execution_count": 41,
   "metadata": {},
   "outputs": [
    {
     "data": {
      "text/plain": [
       "(48, [5, 6, 4, 0, 3, 2, 1, 7], 56, [6, 7, 5, 3, 1, 2, 0, 4])"
      ]
     },
     "execution_count": 41,
     "metadata": {},
     "output_type": "execute_result"
    }
   ],
   "source": [
    "import numpy as np \n",
    "import itertools\n",
    "\n",
    "def calculate_makespan(a, seq):\n",
    "    a = np.transpose(a)\n",
    "    # Order the jobs (rows) in order of the sequence\n",
    "    a = a[seq]\n",
    "\n",
    "    b = np.zeros(a.shape)\n",
    "    jobs = a.shape[0]\n",
    "    macs = a.shape[1]\n",
    "\n",
    "    b[0, 0] = a[0, 0]\n",
    "    # Build first row\n",
    "    for i in range(1, macs):\n",
    "        b[0, i] = a[0, i] + b[0, i - 1]\n",
    "    # Build first column\n",
    "    for i in range(1, jobs):\n",
    "        b[i, 0] = a[i, 0] + b[i - 1, 0]\n",
    "    # Build the rest\n",
    "    for i in range(1, jobs):\n",
    "        for j in range(1, macs):\n",
    "            b[i, j] = a[i, j] + (b[i - 1, j] if b[i - 1, j] > b[i, j - 1] else b[i, j - 1])\n",
    "\n",
    "    return int(b[-1, -1])\n",
    "\n",
    "#c = calculate_makespan( np.array( [[40, 74, 94, 9, 62], [2, 87, 68, 28, 84], [12, 40, 95, 80, 6]]),[2, 1, 4, 3,0])\n",
    "#print(c)\n",
    "\n",
    "def brute_force_makespan(a,n,m):\n",
    "    perm = [[*row] for row in list(itertools.permutations([i for i in range(n)]))]\n",
    "    opt_cmax = 1000000\n",
    "    worst_cmax = 0\n",
    "    opt_perm = []\n",
    "    worst_perm = []\n",
    "    for per in perm :\n",
    "        cmax = calculate_makespan( a,per)\n",
    "        #print(cmax,per)\n",
    "        if cmax >= worst_cmax : \n",
    "            worst_cmax = cmax\n",
    "            worst_perm = per\n",
    "        if cmax <= opt_cmax : \n",
    "            opt_cmax = cmax\n",
    "            opt_perm = per\n",
    "            #print(cmax,per)\n",
    "    return opt_cmax,opt_perm,worst_cmax,worst_perm\n",
    "# 3 3 [[6, 3, 9], [7, 7, 6], [1, 5, 1]]\n",
    "brute_force_makespan(np.array([[4, 4, 3, 3, 2, 3, 4, 3], [2, 4, 2, 4, 2, 4, 4, 4], [4, 4, 2, 4, 2, 2, 2, 4], [4, 4, 3, 3, 2, 2, 4, 3], [4, 2, 4, 3, 2, 4, 3, 3], [3, 3, 3, 2, 2, 3, 3, 2], [4, 2, 2, 3, 2, 2, 4, 3], [3, 4, 2, 3, 3, 3, 2, 2]]\n",
    "),8,8)"
   ]
  },
  {
   "cell_type": "code",
   "execution_count": 42,
   "metadata": {},
   "outputs": [],
   "source": [
    "import sys\n",
    "import json \n",
    "def convert_sol(sol,N):\n",
    "    feasible = True\n",
    "    arr =[-1 for i in range(N)]\n",
    "    for i in range(N) :\n",
    "        nb = 0\n",
    "        for j in range(N):\n",
    "            if sol[i*N+j] == 1: \n",
    "                nb+=1 \n",
    "                if ((nb > 1) or (arr[j] != -1)) : feasible = False\n",
    "                arr[j] = i\n",
    "    if -1 in arr : feasible = False\n",
    "    return arr,feasible\n",
    "\n",
    "def read_sol():\n",
    "    sys.stdout = open('C:\\\\Users\\\\malak\\\\FlowShop_QuantumAlgorithms\\\\VQA\\\\test\\\\test.txt', \"a+\")\n",
    "    file = open(\"C:\\\\Users\\\\malak\\\\FlowShop_QuantumAlgorithms\\\\VQA\\\\test\\\\sol.txt\",\"r\")\n",
    "    ins = file.read().split()\n",
    "    i = 0 \n",
    "    arr = []\n",
    "    while i in range(len(ins))  :\n",
    "        N = int(ins[i])\n",
    "        print(N)\n",
    "        M = int(ins[i+1])\n",
    "        print(M)\n",
    "        PM = json.loads(ins[i+2])\n",
    "        print(PM)\n",
    "        i = i+3\n",
    "        print(brute_force_makespan(np.array(PM),N,M))\n",
    "        for j in range(6):\n",
    "             while ins[i] != ']' and i < len(ins):\n",
    "                 i+=1\n",
    "                 if (ins[i] != '[') and (ins[i] != ']')  :\n",
    "                     arr.append(int(ins[i][0]))\n",
    "             i+=1\n",
    "             print(convert_sol(arr,N), calculate_makespan(PM, convert_sol(arr,N)[0]))\n",
    "             arr =[]\n",
    "    arr = []\n",
    "\n",
    "\n",
    "read_sol()\n",
    " \n",
    "\n"
   ]
  }
 ],
 "metadata": {
  "interpreter": {
   "hash": "c355bd57504ddc72682c51db0e2210bed4ba9a8180ce016dcd7782e54dcf6b69"
  },
  "kernelspec": {
   "display_name": "Python 3.9.12 ('qiskit')",
   "language": "python",
   "name": "python3"
  },
  "language_info": {
   "codemirror_mode": {
    "name": "ipython",
    "version": 3
   },
   "file_extension": ".py",
   "mimetype": "text/x-python",
   "name": "python",
   "nbconvert_exporter": "python",
   "pygments_lexer": "ipython3",
   "version": "3.9.12"
  },
  "orig_nbformat": 4
 },
 "nbformat": 4,
 "nbformat_minor": 2
}
