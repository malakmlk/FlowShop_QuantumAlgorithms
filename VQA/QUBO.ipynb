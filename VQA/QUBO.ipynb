{
 "cells": [
  {
   "cell_type": "code",
   "execution_count": 13,
   "id": "24835c92",
   "metadata": {},
   "outputs": [],
   "source": [
    "from qiskit_optimization import QuadraticProgram\n",
    "from qiskit_optimization.translators import from_docplex_mp\n",
    "from docplex.mp.model import Model\n"
   ]
  },
  {
   "cell_type": "code",
   "execution_count": 14,
   "id": "d5d8b182",
   "metadata": {},
   "outputs": [],
   "source": [
    "class FSPTimeIndexform():\n",
    "    \"\"\"Quantum Optimization for the FSP tIME Index FORME\"\"\"\n",
    "    def __init__(self,timeSpan : int,numberMachine : int,procTime:[],numberJobs : int)-> None :\n",
    "        \"\"\"\n",
    "        Args : \n",
    "        timeSpan : the makespan value\n",
    "        numberMachine : machine number\n",
    "        numverJobs : job's number\n",
    "        \"\"\"\n",
    "        self.timespan = timespan\n",
    "        self.numberMachine = numberMachine\n",
    "        self.numberJobs = numberJobs\n",
    "        self.procTime = procTime\n",
    "    #Version with only constraints    \n",
    "    def to_quadratic_program_1(self)-> QuadraticProgram:\n",
    "        \"\"\"\n",
    "        Create the quadratic program of flow shop\n",
    "        \"\"\"\n",
    "        mdl = Model(name = \"JSP\")\n",
    "        n = self.numberJobs\n",
    "        m = self.numberMachine\n",
    "        ops = n*m #the total number of operations\n",
    "        T = self.timespan\n",
    "        #create our binary variable xi_t for operation i starts at t\n",
    "        x = {(i,k):mdl.binary_var(name= f\"x_{i}_{k}\") for i in range(ops) for k in range(T)}\n",
    "        for i in range(n):\n",
    "            mdl.add_constraint(mdl.sum(x[(i,k)] for k in range(T))==1)\n",
    "    \n",
    "    #Version with threshold     \n",
    "    def to_quadratic_program_2(self)-> QuadraticProgram:\n",
    "        \n",
    "        "
   ]
  },
  {
   "cell_type": "code",
   "execution_count": null,
   "id": "b6b0cd89",
   "metadata": {},
   "outputs": [],
   "source": []
  }
 ],
 "metadata": {
  "kernelspec": {
   "display_name": "Python 3 (ipykernel)",
   "language": "python",
   "name": "python3"
  },
  "language_info": {
   "codemirror_mode": {
    "name": "ipython",
    "version": 3
   },
   "file_extension": ".py",
   "mimetype": "text/x-python",
   "name": "python",
   "nbconvert_exporter": "python",
   "pygments_lexer": "ipython3",
   "version": "3.9.7"
  }
 },
 "nbformat": 4,
 "nbformat_minor": 5
}
